{
 "cells": [
  {
   "cell_type": "markdown",
   "id": "reverse-interview",
   "metadata": {
    "id": "reverse-interview"
   },
   "source": [
    "# 1. Vectors Operations"
   ]
  },
  {
   "cell_type": "markdown",
   "id": "parental-conclusion",
   "metadata": {
    "id": "parental-conclusion"
   },
   "source": [
    "In the first part of this homework we will use Python and `NumPy` functions to perform main vector operations:\n",
    "- scalar multiplication\n",
    "- sum of vectors\n",
    "- dot product"
   ]
  },
  {
   "cell_type": "markdown",
   "id": "advance-butler",
   "metadata": {
    "id": "advance-butler"
   },
   "source": [
    "## Packages\n",
    "\n",
    "Import the `NumPy` package to access its functions."
   ]
  },
  {
   "cell_type": "code",
   "execution_count": 2,
   "id": "promotional-buffer",
   "metadata": {
    "id": "promotional-buffer"
   },
   "outputs": [],
   "source": [
    "import numpy as np"
   ]
  },
  {
   "cell_type": "code",
   "execution_count": 3,
   "id": "cd034f4a",
   "metadata": {},
   "outputs": [],
   "source": [
    "# Personal Imports\n",
    "from numpy import array \n",
    "import pandas as pd "
   ]
  },
  {
   "cell_type": "markdown",
   "id": "severe-studio",
   "metadata": {
    "id": "severe-studio"
   },
   "source": [
    "<a name='1.1'></a>\n",
    "## 1.1 - Scalar Multiplication\n",
    "\n",
    "Write a function named `ScalarMultiplication` that gets as an input a numpy array $v$ representing a vector and a scalar $\\alpha$ and returns the $\\alpha v$. Hint: In Python you can perform this operation with a $*$ operator. Replace `None` with your solution."
   ]
  },
  {
   "cell_type": "code",
   "execution_count": 5,
   "id": "grnGTviMGxWG",
   "metadata": {
    "id": "grnGTviMGxWG"
   },
   "outputs": [
    {
     "data": {
      "text/plain": [
       "array([12, 24])"
      ]
     },
     "execution_count": 5,
     "metadata": {},
     "output_type": "execute_result"
    }
   ],
   "source": [
    "def ScalarMultiplication(v, a):\n",
    "  return a*v\n",
    "scalar = 6\n",
    "vector = array([2,4])\n",
    "ScalarMultiplication(scalar,vector)"
   ]
  },
  {
   "cell_type": "markdown",
   "id": "q5nHjp2dHaJR",
   "metadata": {
    "id": "q5nHjp2dHaJR"
   },
   "source": [
    "<a name='1.2'></a>\n",
    "## 1.2 - Vectors Addition with Loops\n",
    "\n",
    "Write a function named `AddLoop` that gets as an input two numpy arrays $v$ and $w$ representing two vectors and returns the $v + w$ using a for loop. For simplicity, assume the vectors $v$ and $w$ have the same length. Replace `None` with your solution."
   ]
  },
  {
   "cell_type": "code",
   "execution_count": null,
   "id": "Rto1iflsH1XX",
   "metadata": {
    "id": "Rto1iflsH1XX"
   },
   "outputs": [],
   "source": [
    "def AddLoop(v,w):\n",
    "  if type(v) is type(array([1])):\n",
    "    v = list(v)\n",
    "    w = list(w)\n",
    "  if len(v)==len(w):\n",
    "    summed_vec = []\n",
    "    for i,element in enumerate(v):\n",
    "      summed_element = element + w[i]\n",
    "      summed_vec.append(summed_element)\n",
    "    return summed_vec\n",
    "  else:\n",
    "    print('Vectors are different lengths')\n",
    "\n",
    "AddLoop(array([2,3]),array([6,7]))"
   ]
  },
  {
   "cell_type": "markdown",
   "id": "5X9Ty2L-H8Yf",
   "metadata": {
    "id": "5X9Ty2L-H8Yf"
   },
   "source": [
    "<a name='1.3'></a>\n",
    "## 1.3 - Vectors Addition with `Numpy` package\n",
    "\n",
    "Write a function named `Add` that gets as an input two numpy arrays $v$ and $w$ representing two vectors and returns the $v + w$ using the `Numpy` package. For simplicity, assume the vectors $v$ and $w$ have the same length. Replace `None` with your solution."
   ]
  },
  {
   "cell_type": "code",
   "execution_count": null,
   "id": "eiojULUzIHRp",
   "metadata": {
    "id": "eiojULUzIHRp"
   },
   "outputs": [],
   "source": [
    "def Add(v,w):\n",
    "    if type(v) is type(list()):\n",
    "        v = array(v)\n",
    "        w = array(w)\n",
    "    if len(v)==len(w):\n",
    "        return v+w\n",
    "    \n",
    "Add(array([2,3]),array([6,7]))"
   ]
  },
  {
   "cell_type": "markdown",
   "id": "SbnwVLePILn3",
   "metadata": {
    "id": "SbnwVLePILn3"
   },
   "source": [
    "<a name='1.4'></a>\n",
    "## 1.4 - Dot Product with Loops\n",
    "\n",
    "Write a function named `DotLoop` that gets as an input two numpy arrays $v$ and $w$ representing two vectors and returns the dot product between $v$ and $w$ using a for loop. For simplicity, assume the vectors $v$ and $w$ have the same length. Replace `None` with your solution."
   ]
  },
  {
   "cell_type": "code",
   "execution_count": null,
   "id": "CN-lHn4HIcq-",
   "metadata": {
    "id": "CN-lHn4HIcq-"
   },
   "outputs": [],
   "source": [
    "def DotLoop(v,w):\n",
    "  v = list(v)\n",
    "  w = list(w)\n",
    "  if len(v)==len(w):\n",
    "    summed_vec = []\n",
    "    for i,element in enumerate(v):\n",
    "      summed_element = element * w[i]\n",
    "      summed_vec.append(summed_element)\n",
    "    return sum(summed_vec)\n",
    "  else:\n",
    "    print('Vectors are different lengths')\n",
    "    \n",
    "DotLoop(array([1,2,4]),array([3,4,5]))"
   ]
  },
  {
   "cell_type": "markdown",
   "id": "96WQV4qHIfu-",
   "metadata": {
    "id": "96WQV4qHIfu-"
   },
   "source": [
    "<a name='1.5'></a>\n",
    "## 1.5 - Dot Product\n",
    "\n",
    "Write a function named `Dot` that gets as an input two numpy arrays $v$ and $w$ representing two vectors and returns the  dot product between $v$ and $w$ using the `Numpy` package. For simplicity, assume the vectors $v$ and $w$ have the same length. Replace `None` with your solution."
   ]
  },
  {
   "cell_type": "code",
   "execution_count": null,
   "id": "ITjaJvJZIrO6",
   "metadata": {
    "id": "ITjaJvJZIrO6"
   },
   "outputs": [],
   "source": [
    "def Dot(v,w):\n",
    "  if type(v) is type(list()):\n",
    "    v = array(v)\n",
    "    w = array(w)\n",
    "  return np.dot(v,w)\n",
    "\n",
    "Dot(array([1,2,4]),array([3,4,5]))"
   ]
  },
  {
   "cell_type": "markdown",
   "id": "8xNmJyZuJTlW",
   "metadata": {
    "id": "8xNmJyZuJTlW"
   },
   "source": [
    "# 2. Matrix Operations"
   ]
  },
  {
   "cell_type": "markdown",
   "id": "fkZw8sTJJYAC",
   "metadata": {
    "id": "fkZw8sTJJYAC"
   },
   "source": [
    "In the second part of this homework we will use Python and NumPy functions to perform main matrix operations:\n",
    "\n",
    "- sum of matrices\n",
    "- matrix multiplication"
   ]
  },
  {
   "cell_type": "markdown",
   "id": "Zrs7cjK-9p08",
   "metadata": {
    "id": "Zrs7cjK-9p08"
   },
   "source": [
    "### 2.1 Addition\n",
    "\n",
    "Write a function named `AddMatrices` that gets as an input two numpy arrays $A$ and $B$ representing two matrices and returns the sum of $A$ and $B$. Replace `None` with your solution."
   ]
  },
  {
   "cell_type": "code",
   "execution_count": null,
   "id": "g6zbdMkw-S2B",
   "metadata": {
    "id": "g6zbdMkw-S2B"
   },
   "outputs": [],
   "source": [
    "def AddMatrices(A,B):\n",
    "  if A.shape != B.shape:\n",
    "    print('incorrect dimension')\n",
    "  else: \n",
    "    return A + B\n",
    "A = np.random.rand(3, 4)\n",
    "B = np.random.rand(3, 4)\n",
    "AddMatrices(A,B)"
   ]
  },
  {
   "cell_type": "markdown",
   "id": "ZNlo-WJo-eV1",
   "metadata": {
    "id": "ZNlo-WJo-eV1"
   },
   "source": [
    "### 2.2 Matrix Multiplication with Loops\n",
    "\n",
    "Write a function named `MultiplyMatricesLoop` that gets as an input two numpy arrays $A$ and $B$ representing two matrices and returns the product of $A$ and $B$ using for or while loops. Make sure to check whether this operation can be performed. Return $-1$ if we cannot multiply $A$ with $B$. Replace `None` with your solution."
   ]
  },
  {
   "cell_type": "code",
   "execution_count": null,
   "id": "jaIWAT_j-w1u",
   "metadata": {
    "id": "jaIWAT_j-w1u"
   },
   "outputs": [],
   "source": [
    "def MultiplyMatricesLoop(A,B):\n",
    "  if type(A) is type(list()):\n",
    "    A = array(pd.DataFrame(A))\n",
    "    B = array(pd.DataFrame(B).T)\n",
    "  if A.shape[1] != B.shape[0]:\n",
    "    return -1\n",
    "  else:\n",
    "    A_df = pd.DataFrame(A)\n",
    "    B_df = pd.DataFrame(B)\n",
    "    C = []\n",
    "    for row_ind in A_df.index:\n",
    "      ith_row_A = A_df.loc[row_ind,:]\n",
    "      ith_row_C = []\n",
    "      for col_ind in B_df.columns:\n",
    "        jth_col_B = B_df.loc[:,col_ind]\n",
    "        dot_prod_ith_rowA_and_jth_colB = np.dot(ith_row_A,jth_col_B)\n",
    "        ith_row_C.append(dot_prod_ith_rowA_and_jth_colB)\n",
    "      C.append(ith_row_C)\n",
    "    C = array(C)\n",
    "    return C\n",
    "  \n",
    "MultiplyMatricesLoop([1,2,4],[3,4,5])"
   ]
  },
  {
   "cell_type": "code",
   "execution_count": null,
   "id": "74c8b95c",
   "metadata": {},
   "outputs": [],
   "source": [
    "mat1 = np.random.rand(2, 3)\n",
    "mat2  = np.random.rand(3,4)\n",
    "print(f'1st Matrix \\n {mat1}')\n",
    "print(f'2nd Matrix \\n {mat2}')\n",
    "print('\\n*Multiplication Result*')\n",
    "\n",
    "MultiplyMatricesLoop(mat1,mat2)\n"
   ]
  },
  {
   "cell_type": "markdown",
   "id": "GeSwt5GrlCDm",
   "metadata": {
    "id": "GeSwt5GrlCDm"
   },
   "source": [
    "### 2.2 Matrix Multiplication\n",
    "\n",
    "Write a function named `MultiplyMatrices` that gets as an input two numpy arrays $A$ and $B$ representing two matrices and returns the product of $A$ and $B$ using the `Numpy` package. Make sure to check whether this operation can be performed. Return $-1$ if we cannot multiply $A$ with $B$. Replace `None` with your solution."
   ]
  },
  {
   "cell_type": "code",
   "execution_count": null,
   "id": "4bPyhtyllRQf",
   "metadata": {
    "id": "4bPyhtyllRQf"
   },
   "outputs": [],
   "source": [
    "def MultiplyMatrices(A,B):\n",
    "  if type(A) is type(list()):\n",
    "    A = array(pd.DataFrame(A))\n",
    "    B = array(pd.DataFrame(B).T)\n",
    "  if A.shape[1] != B.shape[0]:\n",
    "    return -1\n",
    "  else: \n",
    "    return np.matmul(A, B)\n",
    "  \n",
    "MultiplyMatrices([1,2,4],[3,4,5])\n"
   ]
  }
 ],
 "metadata": {
  "colab": {
   "provenance": []
  },
  "kernelspec": {
   "display_name": "Python 3",
   "language": "python",
   "name": "python3"
  },
  "language_info": {
   "codemirror_mode": {
    "name": "ipython",
    "version": 3
   },
   "file_extension": ".py",
   "mimetype": "text/x-python",
   "name": "python",
   "nbconvert_exporter": "python",
   "pygments_lexer": "ipython3",
   "version": "3.11.8"
  }
 },
 "nbformat": 4,
 "nbformat_minor": 5
}
